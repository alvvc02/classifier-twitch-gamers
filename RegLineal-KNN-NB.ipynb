{
 "cells": [
  {
   "cell_type": "code",
   "execution_count": 1,
   "metadata": {},
   "outputs": [],
   "source": [
    "import pandas as pd\n",
    "import networkx as nx\n",
    "import matplotlib.pyplot as plt\n",
    "import numpy as np\n",
    "from sklearn import preprocessing"
   ]
  },
  {
   "cell_type": "code",
   "execution_count": 3,
   "metadata": {},
   "outputs": [],
   "source": [
    "atributos_df = pd.read_csv(\"trabajo raiz/large_twitch_features.csv\")\n",
    "relaciones_df = pd.read_csv(\"trabajo raiz/large_twitch_edges.csv\")"
   ]
  },
  {
   "cell_type": "code",
   "execution_count": 4,
   "metadata": {},
   "outputs": [
    {
     "name": "stdout",
     "output_type": "stream",
     "text": [
      "    views  mature  life_time  created_at  updated_at  numeric_id  \\\n",
      "0    7879       1        969  2016-02-16  2018-10-12           0   \n",
      "1     500       0       2699  2011-05-19  2018-10-08           1   \n",
      "2  382502       1       3149  2010-02-27  2018-10-12           2   \n",
      "3     386       0       1344  2015-01-26  2018-10-01           3   \n",
      "4    2486       0       1784  2013-11-22  2018-10-11           4   \n",
      "\n",
      "   dead_account language  affiliate  \n",
      "0             0       EN          1  \n",
      "1             0       EN          0  \n",
      "2             0       EN          1  \n",
      "3             0       EN          0  \n",
      "4             0       EN          0  \n",
      "   numeric_id_1  numeric_id_2\n",
      "0         98343        141493\n",
      "1         98343         58736\n",
      "2         98343        140703\n",
      "3         98343        151401\n",
      "4         98343        157118\n"
     ]
    }
   ],
   "source": [
    "print(atributos_df.head(5))\n",
    "print(relaciones_df.head(5))"
   ]
  },
  {
   "cell_type": "code",
   "execution_count": null,
   "metadata": {},
   "outputs": [],
   "source": [
    "grafo = nx.Graph()\n"
   ]
  },
  {
   "cell_type": "code",
   "execution_count": 5,
   "metadata": {},
   "outputs": [],
   "source": [
    "for index, row in atributos_df.iterrows():\n",
    "    numeric_id = row['numeric_id']\n",
    "    atributos = {key: row[key] for key in row.keys() if key != 'numeric_id'}\n",
    "    grafo.add_node(numeric_id, **atributos)\n"
   ]
  },
  {
   "cell_type": "code",
   "execution_count": 6,
   "metadata": {},
   "outputs": [],
   "source": [
    "for index, row in relaciones_df.iterrows():\n",
    "    target1 = row['numeric_id_1']\n",
    "    target2 = row['numeric_id_2']\n",
    "    grafo.add_edge(target1, target2)\n"
   ]
  },
  {
   "cell_type": "code",
   "execution_count": null,
   "metadata": {},
   "outputs": [],
   "source": []
  },
  {
   "cell_type": "code",
   "execution_count": 183,
   "metadata": {},
   "outputs": [],
   "source": [
    "# Como no se puede mostrar el grafo completo debido a su tamaño podemos pasarle unos vertices que sepamos que son\n",
    "# conexos y comprobar que tienen arista entre ellos.\n",
    "\n",
    "# Mediante una lista de vertices pasada por parametro comprobamos el subgrafo para dichos vertices y sus aristas\n",
    "\n",
    "def mostrar_grafo_para_vertices(vertices):\n",
    "    if not all(v in grafo for v in vertices):\n",
    "        print(\"Los vértices no existen en el grafo\")\n",
    "    else:\n",
    "        # Crear el subgrafo con la lista de vertices\n",
    "        G_subgrafo = grafo.subgraph(vertices)\n",
    "\n",
    "        # Crear una nueva figura y ejes\n",
    "        fig, ax = plt.subplots()\n",
    "        nx.draw(G_subgrafo, with_labels=True, node_color='lightblue', node_size=500, font_weight='bold', ax=ax)\n",
    "\n",
    "    # Mostrar el grafo en una ventana\n",
    "        plt.axis('off')\n",
    "        plt.show()\n",
    "    "
   ]
  },
  {
   "cell_type": "code",
   "execution_count": 187,
   "metadata": {},
   "outputs": [
    {
     "data": {
      "image/png": "[encoded data removed]",
      "text/plain": [
       "<Figure size 640x480 with 1 Axes>"
      ]
     },
     "metadata": {},
     "output_type": "display_data"
    }
   ],
   "source": [
    "mostrar_grafo_para_vertices([98343, 141493, 95914, 5])"
   ]
  },
  {
   "cell_type": "code",
   "execution_count": 7,
   "metadata": {},
   "outputs": [],
   "source": [
    "# Creo la variable atributo_codificados como una copia de los atributos originales para sustituirla posteriormente\n",
    "# con las codificaciones necesarias --> LANGUAGE\n",
    "\n",
    "atributos_codificados = atributos_df.copy()\n"
   ]
  },
  {
   "cell_type": "code",
   "execution_count": null,
   "metadata": {},
   "outputs": [],
   "source": []
  },
  {
   "cell_type": "code",
   "execution_count": null,
   "metadata": {},
   "outputs": [],
   "source": [
    "def calcular_matriz_adyacencia(grafo):\n",
    "    return nx.adjacency_matrix(grafo)\n"
   ]
  },
  {
   "cell_type": "code",
   "execution_count": null,
   "metadata": {},
   "outputs": [],
   "source": []
  },
  {
   "cell_type": "code",
   "execution_count": 7,
   "metadata": {},
   "outputs": [],
   "source": [
    "\n",
    "centralidad_grado = list(nx.degree_centrality(grafo).values())"
   ]
  },
  {
   "cell_type": "code",
   "execution_count": 188,
   "metadata": {},
   "outputs": [
    {
     "data": {
      "text/plain": [
       "'import random\\n\\n# Parámetros del muestreo\\nnum_samples = 100  # Número de nodos de inicio para el muestreo\\nsample_size = 1000  # Tamaño del subgrafo muestreado\\n\\n# Selección de nodos de inicio para el muestreo\\nstart_nodes = random.sample(grafo.nodes(), num_samples)\\n\\n# Subgrafo muestreado\\nsubgraph = grafo.subgraph(start_nodes).copy()\\n\\n# Cálculo de la centralidad intermedia en el subgrafo\\ncentralidad_intermedia = list(nx.betweenness_centrality(grafo).values())\\n\\ncentralidad_katz = list(nx.katz_centrality_numpy(grafo, alpha=0.1,\\nbeta=1.0).values())\\n\\ngrados = [j for i,j in grafo.degree]'"
      ]
     },
     "execution_count": 188,
     "metadata": {},
     "output_type": "execute_result"
    }
   ],
   "source": [
    "'''import random\n",
    "\n",
    "# Parámetros del muestreo\n",
    "num_samples = 100  # Número de nodos de inicio para el muestreo\n",
    "sample_size = 1000  # Tamaño del subgrafo muestreado\n",
    "\n",
    "# Selección de nodos de inicio para el muestreo\n",
    "start_nodes = random.sample(grafo.nodes(), num_samples)\n",
    "\n",
    "# Subgrafo muestreado\n",
    "subgraph = grafo.subgraph(start_nodes).copy()\n",
    "\n",
    "# Cálculo de la centralidad intermedia en el subgrafo\n",
    "centralidad_intermedia = list(nx.betweenness_centrality(grafo).values())\n",
    "\n",
    "centralidad_katz = list(nx.katz_centrality_numpy(grafo, alpha=0.1,\n",
    "beta=1.0).values())\n",
    "\n",
    "grados = [j for i,j in grafo.degree]'''\n",
    "\n"
   ]
  },
  {
   "cell_type": "code",
   "execution_count": null,
   "metadata": {},
   "outputs": [],
   "source": []
  },
  {
   "cell_type": "code",
   "execution_count": null,
   "metadata": {},
   "outputs": [],
   "source": []
  },
  {
   "cell_type": "code",
   "execution_count": 9,
   "metadata": {},
   "outputs": [],
   "source": [
    "'''atributos_relacionales = {\"Centralidad_grado\":centralidad_grado,\n",
    "\"Centralidad_intermedia\":centralidad_intermedia,\n",
    " \"Centralidad_katz\":centralidad_katz, \"Grados\":grados}'''"
   ]
  },
  {
   "cell_type": "code",
   "execution_count": null,
   "metadata": {},
   "outputs": [],
   "source": []
  },
  {
   "cell_type": "code",
   "execution_count": 181,
   "metadata": {},
   "outputs": [
    {
     "name": "stdout",
     "output_type": "stream",
     "text": [
      "Los vértices conectados al vértice 98343 son: [495, 1679, 3181, 3635, 10372, 10408, 16783, 30520, 40675, 44326, 48850, 54230, 58736, 59892, 63150, 66893, 75403, 78899, 87516, 89631, 90148, 90697, 95697, 95914, 106969, 113417, 116648, 122269, 123861, 124827, 125430, 140703, 141493, 143081, 145281, 151401, 155127, 157118, 159097]\n"
     ]
    }
   ],
   "source": [
    "## Funcion que devuelve los vertices a los que estan conectado un v1\n",
    "\n",
    "def get_neighbors(grafo, id_vertice):\n",
    "    # Verificar si el vértice existe en el grafo\n",
    "    if id_vertice not in grafo.nodes:\n",
    "        print(\"El vértice con ID\", id_vertice, \"no existe en el grafo.\")\n",
    "        return []\n",
    "    \n",
    "    # Obtener los vecinos del vértice\n",
    "    vecinos = list(grafo.neighbors(id_vertice))\n",
    "    \n",
    "    return vecinos\n",
    "\n",
    "\n",
    "vertice_id = 98343\n",
    "conectados = get_neighbors(grafo, vertice_id)\n",
    "print(\"Los vértices conectados al vértice\", vertice_id, \"son:\", sorted(conectados))\n"
   ]
  },
  {
   "cell_type": "code",
   "execution_count": 182,
   "metadata": {},
   "outputs": [
    {
     "data": {
      "text/plain": [
       "[86321,\n",
       " 19470,\n",
       " 2259,\n",
       " 115813,\n",
       " 159497,\n",
       " 38538,\n",
       " 117766,\n",
       " 72013,\n",
       " 116924,\n",
       " 68392,\n",
       " 96863]"
      ]
     },
     "execution_count": 182,
     "metadata": {},
     "output_type": "execute_result"
    }
   ],
   "source": [
    "get_neighbors(grafo, 3)"
   ]
  },
  {
   "cell_type": "code",
   "execution_count": null,
   "metadata": {},
   "outputs": [],
   "source": []
  },
  {
   "cell_type": "code",
   "execution_count": null,
   "metadata": {},
   "outputs": [],
   "source": []
  },
  {
   "cell_type": "code",
   "execution_count": null,
   "metadata": {},
   "outputs": [],
   "source": [
    "## Para codificar los idiomas creo un diccionario[idioma] = num_clave, que asigne un numero desde [1:idiomas.size]\n",
    "# a cada uno de los idiomas del dataset"
   ]
  },
  {
   "cell_type": "code",
   "execution_count": 189,
   "metadata": {},
   "outputs": [
    {
     "name": "stdout",
     "output_type": "stream",
     "text": [
      "{'OTHER': 1, 'HU': 2, 'DE': 3, 'PL': 4, 'TR': 5, 'EN': 6, 'NL': 7, 'PT': 8, 'SV': 9, 'KO': 10, 'CS': 11, 'DA': 12, 'RU': 13, 'ZH': 14, 'JA': 15, 'FR': 16, 'FI': 17, 'IT': 18, 'ES': 19, 'TH': 20, 'NO': 21}\n"
     ]
    }
   ],
   "source": [
    "idiomas_set = set(atributos_df[\"language\"])  # Me quedo solo con los elementos no repetidos\n",
    "idiomas = list(idiomas_set)\n",
    "diccionario = {}\n",
    "for idioma, i in enumerate(idiomas, start = 1):\n",
    "    diccionario[i] = idioma\n",
    "    \n",
    "print(diccionario)\n"
   ]
  },
  {
   "cell_type": "code",
   "execution_count": null,
   "metadata": {},
   "outputs": [],
   "source": []
  },
  {
   "cell_type": "code",
   "execution_count": null,
   "metadata": {},
   "outputs": [],
   "source": []
  },
  {
   "cell_type": "code",
   "execution_count": 190,
   "metadata": {},
   "outputs": [],
   "source": [
    "# Al dataset le eliminamos la columna de idiomas y se la sustituimos por una nueva que contenga los idomas codificados\n",
    "\n",
    "sin_languages = atributos_df.drop(\"language\", axis=1).drop(\"affiliate\", axis = 1).copy()\n",
    "#print(sin_languages)\n",
    "solo_languages = atributos_df[\"language\"].copy()\n",
    "solo_affiliate = atributos_df[\"affiliate\"].copy()\n",
    "#print(solo_languages)\n",
    "idiomas_codificados = solo_languages.map(diccionario)\n",
    "#print(idiomas_codificados)\n",
    "#print(atributoa_codificados)\n",
    "\n",
    "sin_languages[\"language\"] = idiomas_codificados\n"
   ]
  },
  {
   "cell_type": "code",
   "execution_count": 191,
   "metadata": {},
   "outputs": [],
   "source": [
    "sin_languages[\"created_at\"] = sin_languages[\"created_at\"].str.replace(\"-\", \"\")\n",
    "sin_languages[\"updated_at\"] = sin_languages[\"updated_at\"].str.replace(\"-\", \"\")\n",
    "sin_languages[\"created_at\"] = sin_languages[\"created_at\"].astype('int64')\n",
    "sin_languages[\"updated_at\"] = sin_languages[\"updated_at\"].astype('int64')"
   ]
  },
  {
   "cell_type": "code",
   "execution_count": 192,
   "metadata": {},
   "outputs": [],
   "source": [
    "atributos_codificados = sin_languages\n",
    "objetivo = solo_affiliate\n"
   ]
  },
  {
   "cell_type": "code",
   "execution_count": 193,
   "metadata": {},
   "outputs": [
    {
     "name": "stdout",
     "output_type": "stream",
     "text": [
      "    views  mature  life_time  created_at  updated_at  numeric_id  \\\n",
      "0    7879       1        969    20160216    20181012           0   \n",
      "1     500       0       2699    20110519    20181008           1   \n",
      "2  382502       1       3149    20100227    20181012           2   \n",
      "3     386       0       1344    20150126    20181001           3   \n",
      "4    2486       0       1784    20131122    20181011           4   \n",
      "5    4987       1       1288    20150403    20181012           5   \n",
      "6     234       0        358    20170914    20180907           6   \n",
      "7     775       1        577    20170314    20181012           7   \n",
      "8   69020       0       1781    20131122    20181008           8   \n",
      "9   32073       0        499    20170531    20181012           9   \n",
      "\n",
      "   dead_account  language  \n",
      "0             0         6  \n",
      "1             0         6  \n",
      "2             0         6  \n",
      "3             0         6  \n",
      "4             0         6  \n",
      "5             0         6  \n",
      "6             0         6  \n",
      "7             0        16  \n",
      "8             0         6  \n",
      "9             0        10  \n"
     ]
    }
   ],
   "source": [
    "print(atributos_codificados.head(10))"
   ]
  },
  {
   "cell_type": "code",
   "execution_count": 31,
   "metadata": {},
   "outputs": [
    {
     "name": "stdout",
     "output_type": "stream",
     "text": [
      "0    1\n",
      "1    0\n",
      "2    1\n",
      "3    0\n",
      "4    0\n",
      "Name: affiliate, dtype: int64\n"
     ]
    }
   ],
   "source": [
    "print(objetivo.head())"
   ]
  },
  {
   "cell_type": "code",
   "execution_count": 32,
   "metadata": {},
   "outputs": [],
   "source": [
    "## Para comprobar si cada canal es afiliado o no mediante un modelo no relacional podemos usar por ejemplo naive bayes\n",
    "# para los atributos ya codificados"
   ]
  },
  {
   "cell_type": "code",
   "execution_count": 33,
   "metadata": {},
   "outputs": [],
   "source": [
    "from sklearn import naive_bayes\n",
    "from sklearn import model_selection"
   ]
  },
  {
   "cell_type": "code",
   "execution_count": 78,
   "metadata": {},
   "outputs": [],
   "source": [
    "(atributos_entrenamiento, atributos_prueba,\n",
    " objetivo_entrenamiento, objetivo_prueba) = model_selection.train_test_split(\n",
    "        # Conjuntos de datos a dividir, usando los mismos índices para ambos\n",
    "        atributos_codificados, objetivo,\n",
    "        # Valor de la semilla aleatoria, para que el muestreo sea reproducible,\n",
    "        # a pesar de ser aleatorio\n",
    "        random_state=125,\n",
    "        # Tamaño del conjunto de prueba\n",
    "        test_size=.33,\n",
    "        # Estratificamos respecto a la distribución de valores en la variable objetivo\n",
    "        stratify=objetivo)"
   ]
  },
  {
   "cell_type": "code",
   "execution_count": 79,
   "metadata": {},
   "outputs": [
    {
     "data": {
      "text/html": [
       "<style>#sk-container-id-3 {color: black;background-color: white;}#sk-container-id-3 pre{padding: 0;}#sk-container-id-3 div.sk-toggleable {background-color: white;}#sk-container-id-3 label.sk-toggleable__label {cursor: pointer;display: block;width: 100%;margin-bottom: 0;padding: 0.3em;box-sizing: border-box;text-align: center;}#sk-container-id-3 label.sk-toggleable__label-arrow:before {content: \"▸\";float: left;margin-right: 0.25em;color: #696969;}#sk-container-id-3 label.sk-toggleable__label-arrow:hover:before {color: black;}#sk-container-id-3 div.sk-estimator:hover label.sk-toggleable__label-arrow:before {color: black;}#sk-container-id-3 div.sk-toggleable__content {max-height: 0;max-width: 0;overflow: hidden;text-align: left;background-color: #f0f8ff;}#sk-container-id-3 div.sk-toggleable__content pre {margin: 0.2em;color: black;border-radius: 0.25em;background-color: #f0f8ff;}#sk-container-id-3 input.sk-toggleable__control:checked~div.sk-toggleable__content {max-height: 200px;max-width: 100%;overflow: auto;}#sk-container-id-3 input.sk-toggleable__control:checked~label.sk-toggleable__label-arrow:before {content: \"▾\";}#sk-container-id-3 div.sk-estimator input.sk-toggleable__control:checked~label.sk-toggleable__label {background-color: #d4ebff;}#sk-container-id-3 div.sk-label input.sk-toggleable__control:checked~label.sk-toggleable__label {background-color: #d4ebff;}#sk-container-id-3 input.sk-hidden--visually {border: 0;clip: rect(1px 1px 1px 1px);clip: rect(1px, 1px, 1px, 1px);height: 1px;margin: -1px;overflow: hidden;padding: 0;position: absolute;width: 1px;}#sk-container-id-3 div.sk-estimator {font-family: monospace;background-color: #f0f8ff;border: 1px dotted black;border-radius: 0.25em;box-sizing: border-box;margin-bottom: 0.5em;}#sk-container-id-3 div.sk-estimator:hover {background-color: #d4ebff;}#sk-container-id-3 div.sk-parallel-item::after {content: \"\";width: 100%;border-bottom: 1px solid gray;flex-grow: 1;}#sk-container-id-3 div.sk-label:hover label.sk-toggleable__label {background-color: #d4ebff;}#sk-container-id-3 div.sk-serial::before {content: \"\";position: absolute;border-left: 1px solid gray;box-sizing: border-box;top: 0;bottom: 0;left: 50%;z-index: 0;}#sk-container-id-3 div.sk-serial {display: flex;flex-direction: column;align-items: center;background-color: white;padding-right: 0.2em;padding-left: 0.2em;position: relative;}#sk-container-id-3 div.sk-item {position: relative;z-index: 1;}#sk-container-id-3 div.sk-parallel {display: flex;align-items: stretch;justify-content: center;background-color: white;position: relative;}#sk-container-id-3 div.sk-item::before, #sk-container-id-3 div.sk-parallel-item::before {content: \"\";position: absolute;border-left: 1px solid gray;box-sizing: border-box;top: 0;bottom: 0;left: 50%;z-index: -1;}#sk-container-id-3 div.sk-parallel-item {display: flex;flex-direction: column;z-index: 1;position: relative;background-color: white;}#sk-container-id-3 div.sk-parallel-item:first-child::after {align-self: flex-end;width: 50%;}#sk-container-id-3 div.sk-parallel-item:last-child::after {align-self: flex-start;width: 50%;}#sk-container-id-3 div.sk-parallel-item:only-child::after {width: 0;}#sk-container-id-3 div.sk-dashed-wrapped {border: 1px dashed gray;margin: 0 0.4em 0.5em 0.4em;box-sizing: border-box;padding-bottom: 0.4em;background-color: white;}#sk-container-id-3 div.sk-label label {font-family: monospace;font-weight: bold;display: inline-block;line-height: 1.2em;}#sk-container-id-3 div.sk-label-container {text-align: center;}#sk-container-id-3 div.sk-container {/* jupyter's `normalize.less` sets `[hidden] { display: none; }` but bootstrap.min.css set `[hidden] { display: none !important; }` so we also need the `!important` here to be able to override the default hidden behavior on the sphinx rendered scikit-learn.org. See: https://github.com/scikit-learn/scikit-learn/issues/21755 */display: inline-block !important;position: relative;}#sk-container-id-3 div.sk-text-repr-fallback {display: none;}</style><div id=\"sk-container-id-3\" class=\"sk-top-container\"><div class=\"sk-text-repr-fallback\"><pre>CategoricalNB()</pre><b>In a Jupyter environment, please rerun this cell to show the HTML representation or trust the notebook. <br />On GitHub, the HTML representation is unable to render, please try loading this page with nbviewer.org.</b></div><div class=\"sk-container\" hidden><div class=\"sk-item\"><div class=\"sk-estimator sk-toggleable\"><input class=\"sk-toggleable__control sk-hidden--visually\" id=\"sk-estimator-id-3\" type=\"checkbox\" checked><label for=\"sk-estimator-id-3\" class=\"sk-toggleable__label sk-toggleable__label-arrow\">CategoricalNB</label><div class=\"sk-toggleable__content\"><pre>CategoricalNB()</pre></div></div></div></div></div>"
      ],
      "text/plain": [
       "CategoricalNB()"
      ]
     },
     "execution_count": 79,
     "metadata": {},
     "output_type": "execute_result"
    }
   ],
   "source": [
    "clasif_NB = naive_bayes.CategoricalNB(alpha=1.0)  # alpha es el parámetro de suavizado\n",
    "clasif_NB.fit(atributos_entrenamiento, objetivo_entrenamiento)"
   ]
  },
  {
   "cell_type": "code",
   "execution_count": 80,
   "metadata": {},
   "outputs": [
    {
     "name": "stdout",
     "output_type": "stream",
     "text": [
      "         views  mature  life_time  created_at  updated_at  numeric_id  \\\n",
      "168109    4965       0        810    20160720    20181008      168109   \n",
      "168110    4128       1       2080    20130131    20181012      168110   \n",
      "168111    3545       0       1797    20131108    20181010      168111   \n",
      "168112  892736       1       2135    20121207    20181012      168112   \n",
      "168113     791       0       2005    20130122    20180720      168113   \n",
      "\n",
      "        dead_account  language  \n",
      "168109             0         6  \n",
      "168110             0         6  \n",
      "168111             0         6  \n",
      "168112             0         6  \n",
      "168113             0         6  \n"
     ]
    }
   ],
   "source": [
    "print(atributos_codificados.tail())"
   ]
  },
  {
   "cell_type": "code",
   "execution_count": null,
   "metadata": {},
   "outputs": [],
   "source": []
  },
  {
   "cell_type": "code",
   "execution_count": 81,
   "metadata": {},
   "outputs": [],
   "source": [
    "nuevos_ejemplos = pd.DataFrame([[62345, 1, 2876, 20020928, 20020928, 168113, 0, 6],\n",
    "[60012, 1, 1698, 20080815, 20080815, 168113, 0, 7],\n",
    "[60135, 1, 1234, 20050719, 20050719, 168113, 0, 5],\n",
    "[61234, 1, 2789, 20031205, 20031205, 168113, 0, 8],\n",
    "[60567, 1, 3210, 20040502, 20040502, 168113, 0, 5],\n",
    "[61789, 1, 2678, 20060317, 20060317, 168113, 0, 6],\n",
    "[63098, 1, 3456, 20120214, 20120214, 168113, 0, 7],\n",
    "[61987, 1, 1923, 20010530, 20010530, 168113, 0, 5],\n",
    "[62234, 1, 2890, 20100123, 20100123, 168113, 0, 7],\n",
    "[60321, 1, 2378, 20180501, 20180501, 168113, 0, 8]\n",
    " ])"
   ]
  },
  {
   "cell_type": "code",
   "execution_count": null,
   "metadata": {},
   "outputs": [],
   "source": [
    "prediccion = clasif_NB.predict(nuevos_ejemplos)\n",
    "print(prediccion)"
   ]
  },
  {
   "cell_type": "code",
   "execution_count": null,
   "metadata": {},
   "outputs": [],
   "source": [
    "score = clasif_NB.score(atributos_prueba, objetivo_prueba)\n",
    "print(score)"
   ]
  },
  {
   "cell_type": "code",
   "execution_count": 88,
   "metadata": {},
   "outputs": [],
   "source": [
    "def prediccionNaiveBayes(nuevos_ejemplos):\n",
    "    prediccion = clasif_NB.predict(nuevos_ejemplos)\n",
    "    score = clasif_NB.score(atributos_prueba, objetivo_prueba)\n",
    "    print(\"La prediccion para los ejemplos dados sera:\", prediccion)\n",
    "    print(\"El score conseguido mediante naive bayes sera:\", score)"
   ]
  },
  {
   "cell_type": "code",
   "execution_count": null,
   "metadata": {},
   "outputs": [],
   "source": [
    "prediccionNaiveBayes(nuevos_ejemplos)"
   ]
  },
  {
   "cell_type": "code",
   "execution_count": 3,
   "metadata": {},
   "outputs": [],
   "source": [
    "from sklearn import neighbors"
   ]
  },
  {
   "cell_type": "code",
   "execution_count": null,
   "metadata": {},
   "outputs": [],
   "source": [
    "clasif_kNN = neighbors.KNeighborsClassifier(\n",
    "    n_neighbors=5,  # Número de vecinos a considerar\n",
    "    metric='hamming'  # Distancia de Hamming como métrica de cercanía:\n",
    "                      # fracción de atributos con valores distintos\n",
    ")\n",
    "clasif_kNN.fit(atributos_entrenamiento, objetivo_entrenamiento)"
   ]
  },
  {
   "cell_type": "code",
   "execution_count": null,
   "metadata": {},
   "outputs": [],
   "source": [
    "distancias, vecinos = clasif_kNN.kneighbors(nuevos_ejemplos)"
   ]
  },
  {
   "cell_type": "code",
   "execution_count": 104,
   "metadata": {},
   "outputs": [],
   "source": [
    "def prediccionKNN(nuevos_ejemplos):\n",
    "    predicciones = clasif_kNN.predict(nuevos_ejemplos)\n",
    "    score = clasif_kNN.score(atributos_prueba, objetivo_prueba)\n",
    "    print(\"La prediccion para los ejemplos dados sera:\", prediccion)\n",
    "    print(\"El score conseguido mediante KNN sera:\", score)"
   ]
  },
  {
   "cell_type": "code",
   "execution_count": null,
   "metadata": {},
   "outputs": [],
   "source": []
  },
  {
   "cell_type": "code",
   "execution_count": null,
   "metadata": {},
   "outputs": [],
   "source": []
  },
  {
   "cell_type": "code",
   "execution_count": null,
   "metadata": {},
   "outputs": [],
   "source": []
  },
  {
   "cell_type": "code",
   "execution_count": null,
   "metadata": {},
   "outputs": [],
   "source": []
  },
  {
   "cell_type": "code",
   "execution_count": null,
   "metadata": {},
   "outputs": [],
   "source": []
  },
  {
   "cell_type": "code",
   "execution_count": 178,
   "metadata": {},
   "outputs": [],
   "source": [
    "def comparacion_de_scores(atributos_prueba, objejivos_prueba):\n",
    "    regresion_lineal = lr_multiple.score(atributos_prueba, objetivo_prueba)\n",
    "    knn = clasif_kNN.score(atributos_prueba, objetivo_prueba)\n",
    "    nb = clasif_NB.score(atributos_prueba, objetivo_prueba)\n",
    "    lista = sorted([regresion_lineal, knn, nb], reverse=True)\n",
    "    print(\"KNN:\", knn)\n",
    "    print(\"Naive Bayes:\", nb)\n",
    "    print(\"Los modelos mas eficaces serian:\", lista)\n",
    "    \n",
    "    print(\"El modelo mas optimo seria:\", max(regresion_lineal, knn, nb)) "
   ]
  },
  {
   "cell_type": "code",
   "execution_count": 179,
   "metadata": {},
   "outputs": [
    {
     "name": "stdout",
     "output_type": "stream",
     "text": [
      "Regresion lineal: 0.07510016509621964\n",
      "KNN: 0.6208767439345326\n",
      "Naive Bayes: 0.7139947366523667\n",
      "Los modelos mas eficaces serian: [0.7139947366523667, 0.6208767439345326, 0.07510016509621964]\n",
      "El modelo mas optimo seria: 0.7139947366523667\n"
     ]
    }
   ],
   "source": [
    "comparacion_de_scores(atributos_prueba, objetivo_prueba)"
   ]
  },
  {
   "cell_type": "code",
   "execution_count": null,
   "metadata": {},
   "outputs": [],
   "source": []
  }
 ],
 "metadata": {
  "kernelspec": {
   "display_name": "Python 3",
   "language": "python",
   "name": "python3"
  },
  "language_info": {
   "codemirror_mode": {
    "name": "ipython",
    "version": 3
   },
   "file_extension": ".py",
   "mimetype": "text/x-python",
   "name": "python",
   "nbconvert_exporter": "python",
   "pygments_lexer": "ipython3",
   "version": "3.8.3"
  }
 },
 "nbformat": 4,
 "nbformat_minor": 4
}
